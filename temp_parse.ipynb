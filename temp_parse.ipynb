{
 "cells": [
  {
   "cell_type": "code",
   "execution_count": null,
   "id": "8ecca0f3-7273-4b18-838e-724e78582503",
   "metadata": {},
   "outputs": [],
   "source": [
    "import numpy as np\n",
    "import pandas as pd\n",
    "import matplotlib.pyplot as plt\n",
    "\n",
    "from sklearn.preprocessing import PolynomialFeatures\n",
    "from sklearn.linear_model import LinearRegression\n",
    "from sklearn.metrics import mean_squared_error"
   ]
  },
  {
   "cell_type": "code",
   "execution_count": null,
   "id": "5b6f01af-9583-48d7-afb3-f771cd834030",
   "metadata": {},
   "outputs": [],
   "source": [
    "df = pd.read_csv(\"temperature.log\", header=None, names=['datetime', 'smoker_temp', 'meat_temp'])"
   ]
  },
  {
   "cell_type": "code",
   "execution_count": null,
   "id": "0aff0b15-956a-4eba-bd2f-d8c7151aac0e",
   "metadata": {},
   "outputs": [],
   "source": [
    "past_minutes = 10\n",
    "forecast_minutes = 10\n",
    "\n",
    "past_steps = past_minutes * 60\n",
    "forecast_steps = forecast_minutes * 60"
   ]
  },
  {
   "cell_type": "code",
   "execution_count": null,
   "id": "5932a596-b130-40ab-ba12-c6a469b5ecca",
   "metadata": {},
   "outputs": [],
   "source": [
    "# Reshape the data to fit the model\n",
    "full_time = pd.to_datetime(df['datetime'], format='%H:%M:%S.%f')\n",
    "full_time = (full_time - full_time.min()).dt.total_seconds().values.reshape(-1, 1)\n",
    "X = full_time[-past_steps:]\n",
    "y = df['smoker_temp'].values[-past_steps:]\n",
    "\n",
    "# Polynomial Features Transformation (e.g., degree 2 for quadratic regression)\n",
    "degree = 3\n",
    "poly = PolynomialFeatures(degree=degree)\n",
    "X_poly = poly.fit_transform(X)\n",
    "\n",
    "# Fit the Polynomial Regression Model\n",
    "model = LinearRegression()\n",
    "model.fit(X_poly, y)\n",
    "\n",
    "# Predict temperature values on the training set\n",
    "y_pred = model.predict(X_poly)\n",
    "\n",
    "# Calculate the Residual Sum of Squares\n",
    "rss = np.sum((y - y_pred) ** 2)\n",
    "n = len(y)\n",
    "mse = rss / (n - degree - 1)  # Mean Squared Error\n",
    "rmse = np.sqrt(mse)            # Root Mean Squared Error\n",
    "\n",
    "# Predict for Future Times\n",
    "last_value = X[-1] if np.isscalar(X[-1]) else X[-1][0]\n",
    "int_list = range(int(last_value) + 1, int(last_value) + forecast_steps)\n",
    "future_times = np.array([float(i) for i in int_list]).reshape(-1, 1)\n",
    "future_times_poly = poly.transform(future_times)\n",
    "future_predictions = model.predict(future_times_poly)\n",
    "\n",
    "# Calculate Confidence Intervals\n",
    "confidence_interval = 1.96 * rmse  # 95% confidence interval\n",
    "\n",
    "# Upper and lower bounds\n",
    "upper_bound = future_predictions + confidence_interval\n",
    "lower_bound = future_predictions - confidence_interval"
   ]
  },
  {
   "cell_type": "code",
   "execution_count": null,
   "id": "a25b9faa-7219-476b-b540-3dfdb8decc6b",
   "metadata": {},
   "outputs": [],
   "source": [
    "# Plot the results\n",
    "plt.figure(figsize=(16, 9))\n",
    "plt.scatter(full_time, df['smoker_temp'], color='yellow', label='All recorded temperatures')\n",
    "plt.scatter(X, y, color='blue', label='Observed data')\n",
    "plt.plot(X, y_pred, color='green', label='Polynomial fit')\n",
    "plt.scatter(future_times, future_predictions, color='red', label='Predicted future values')\n",
    "plt.fill_between(future_times.flatten(), lower_bound, upper_bound, color='gray', alpha=0.5, label='Confidence Interval')\n",
    "plt.xlabel('Time')\n",
    "plt.ylabel('Temperature')\n",
    "plt.legend()\n",
    "plt.show()"
   ]
  }
 ],
 "metadata": {
  "kernelspec": {
   "display_name": "rt_plotly",
   "language": "python",
   "name": "rt_plotly"
  },
  "language_info": {
   "codemirror_mode": {
    "name": "ipython",
    "version": 3
   },
   "file_extension": ".py",
   "mimetype": "text/x-python",
   "name": "python",
   "nbconvert_exporter": "python",
   "pygments_lexer": "ipython3",
   "version": "3.11.9"
  }
 },
 "nbformat": 4,
 "nbformat_minor": 5
}
